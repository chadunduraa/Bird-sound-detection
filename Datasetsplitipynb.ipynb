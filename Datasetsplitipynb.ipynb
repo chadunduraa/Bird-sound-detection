{
  "nbformat": 4,
  "nbformat_minor": 0,
  "metadata": {
    "colab": {
      "provenance": []
    },
    "kernelspec": {
      "name": "python3",
      "display_name": "Python 3"
    },
    "language_info": {
      "name": "python"
    }
  },
  "cells": [
    {
      "cell_type": "code",
      "execution_count": null,
      "metadata": {
        "colab": {
          "base_uri": "https://localhost:8080/"
        },
        "id": "maN79NtakH2W",
        "outputId": "31ed0142-7e24-40e5-a50d-a9e5b67e40ca"
      },
      "outputs": [
        {
          "output_type": "stream",
          "name": "stdout",
          "text": [
            "Mounted at /content/drive\n"
          ]
        }
      ],
      "source": [
        "from google.colab import drive\n",
        "drive.mount('/content/drive')"
      ]
    },
    {
      "cell_type": "code",
      "source": [
        "import os\n",
        "import shutil\n",
        "import random\n",
        "\n",
        "# Define paths to your dataset\n",
        "dataset_dir = '/content/drive/My Drive/spectrogramimg_main/'\n",
        "train_dir = '/content/drive/My Drive/spectrogram_images_train/'\n",
        "test_dir = '/content/drive/My Drive/spectrogram_images_test/'\n",
        "\n",
        "# Define the ratio of data to be used for training (e.g., 0.8 for 80% training, 20% testing)\n",
        "train_ratio = 0.8\n",
        "\n",
        "# Iterate through each species directory\n",
        "for species_dir in os.listdir(dataset_dir):\n",
        "    species_path = os.path.join(dataset_dir, species_dir)\n",
        "\n",
        "    # Ensure that the directory is indeed a directory\n",
        "    if os.path.isdir(species_path):\n",
        "        # Collect all spectrogram files for the current species\n",
        "        spectrogram_files = os.listdir(species_path)\n",
        "\n",
        "        # Shuffle the spectrogram files to ensure randomness\n",
        "        random.shuffle(spectrogram_files)\n",
        "\n",
        "        # Calculate the split index based on the train_ratio\n",
        "        split_index = int(len(spectrogram_files) * train_ratio)\n",
        "\n",
        "        # Split the spectrogram files into training and testing sets\n",
        "        train_files = spectrogram_files[:split_index]\n",
        "        test_files = spectrogram_files[split_index:]\n",
        "\n",
        "        # Create directories for the species in the train and test directories if they don't exist\n",
        "        train_species_dir = os.path.join(train_dir, species_dir)\n",
        "        test_species_dir = os.path.join(test_dir, species_dir)\n",
        "        os.makedirs(train_species_dir, exist_ok=True)\n",
        "        os.makedirs(test_species_dir, exist_ok=True)\n",
        "\n",
        "        # Move the spectrogram files to the appropriate directories\n",
        "        for train_file in train_files:\n",
        "            shutil.copy(os.path.join(species_path, train_file), os.path.join(train_species_dir, train_file))\n",
        "        for test_file in test_files:\n",
        "            shutil.copy(os.path.join(species_path, test_file), os.path.join(test_species_dir, test_file))\n"
      ],
      "metadata": {
        "id": "R1B-53Dvkk0D"
      },
      "execution_count": null,
      "outputs": []
    }
  ]
}